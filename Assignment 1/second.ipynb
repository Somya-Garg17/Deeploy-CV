{
 "cells": [
  {
   "cell_type": "code",
   "metadata": {
    "ExecuteTime": {
     "end_time": "2024-12-18T10:45:09.101248Z",
     "start_time": "2024-12-18T10:45:09.080232Z"
    }
   },
   "source": [
    "import cv2\n",
    "import numpy as np\n",
    "import matplotlib.pyplot as plt"
   ],
   "outputs": [
    {
     "ename": "ModuleNotFoundError",
     "evalue": "No module named 'cv2'",
     "output_type": "error",
     "traceback": [
      "\u001B[0;31m---------------------------------------------------------------------------\u001B[0m",
      "\u001B[0;31mModuleNotFoundError\u001B[0m                       Traceback (most recent call last)",
      "Cell \u001B[0;32mIn[3], line 1\u001B[0m\n\u001B[0;32m----> 1\u001B[0m \u001B[38;5;28;01mimport\u001B[39;00m \u001B[38;5;21;01mcv2\u001B[39;00m\n\u001B[1;32m      2\u001B[0m \u001B[38;5;28;01mimport\u001B[39;00m \u001B[38;5;21;01mnumpy\u001B[39;00m \u001B[38;5;28;01mas\u001B[39;00m \u001B[38;5;21;01mnp\u001B[39;00m\n\u001B[1;32m      3\u001B[0m \u001B[38;5;28;01mimport\u001B[39;00m \u001B[38;5;21;01mmatplotlib\u001B[39;00m\u001B[38;5;21;01m.\u001B[39;00m\u001B[38;5;21;01mpyplot\u001B[39;00m \u001B[38;5;28;01mas\u001B[39;00m \u001B[38;5;21;01mplt\u001B[39;00m\n",
      "\u001B[0;31mModuleNotFoundError\u001B[0m: No module named 'cv2'"
     ]
    }
   ],
   "execution_count": 3
  },
  {
   "cell_type": "code",
   "execution_count": null,
   "metadata": {},
   "outputs": [],
   "source": [
    "def show(name, n, m, i, Title):\n",
    "    plt.subplot(n, m, i)\n",
    "    plt.title(Title)\n",
    "    plt.imshow(name, cmap='gray')\n",
    "    plt.axis('off')"
   ]
  },
  {
   "cell_type": "code",
   "execution_count": null,
   "metadata": {},
   "outputs": [],
   "source": [
    "\n",
    "def capture_image():\n",
    "    cap = cv2.VideoCapture(0)  # Use 0 for the default webcam\n",
    "    if not cap.isOpened():\n",
    "        print(\"Error: Cannot access the webcam!\")\n",
    "        return None\n",
    "    \n",
    "    ret, frame = cap.read()\n",
    "    cap.release()\n",
    "    \n",
    "    if not ret:\n",
    "        print(\"Error: Failed to capture an image!\")\n",
    "        return None\n",
    "    \n",
    "    frame_rgb = cv2.cvtColor(frame, cv2.COLOR_BGR2RGB)  # Convert BGR to RGB\n",
    "    return frame_rgb"
   ]
  },
  {
   "cell_type": "code",
   "execution_count": null,
   "metadata": {},
   "outputs": [],
   "source": [
    "def grey_scale(image):\n",
    "    return cv2.cvtColor(image, cv2.COLOR_RGB2GRAY)"
   ]
  },
  {
   "cell_type": "code",
   "execution_count": null,
   "metadata": {},
   "outputs": [],
   "source": [
    "\n",
    "def threshold_image(image, thresh=128):\n",
    "    _, binary = cv2.threshold(image, thresh, 255, cv2.THRESH_BINARY)\n",
    "    return binary"
   ]
  },
  {
   "cell_type": "code",
   "execution_count": null,
   "metadata": {},
   "outputs": [],
   "source": [
    "def sixteen_greys(image):\n",
    "    grey_levels = np.floor_divide(image, 16) * 16  # Quantize pixel values into 16 levels\n",
    "    return grey_levels"
   ]
  },
  {
   "cell_type": "code",
   "execution_count": null,
   "metadata": {},
   "outputs": [],
   "source": [
    "def sobel_filter(image):\n",
    "    sobelx = cv2.Sobel(image, cv2.CV_64F, 1, 0, ksize=3)  # X gradient\n",
    "    sobely = cv2.Sobel(image, cv2.CV_64F, 0, 1, ksize=3)  # Y gradient\n",
    "    sobel_combined = cv2.magnitude(sobelx, sobely)\n",
    "    return np.uint8(sobel_combined)"
   ]
  },
  {
   "cell_type": "code",
   "execution_count": null,
   "metadata": {},
   "outputs": [],
   "source": [
    "\n",
    "def canny_edge(image):\n",
    "    edges = cv2.Canny(image, 100, 200)\n",
    "    return edges"
   ]
  },
  {
   "cell_type": "code",
   "execution_count": null,
   "metadata": {},
   "outputs": [],
   "source": [
    "def gaussian_filter(image):\n",
    "    kernel_size = (5, 5)  # Gaussian kernel size\n",
    "    return cv2.GaussianBlur(image, kernel_size, 0)"
   ]
  },
  {
   "cell_type": "code",
   "execution_count": null,
   "metadata": {},
   "outputs": [],
   "source": [
    "\n",
    "def sharpen_image(image):\n",
    "    kernel = np.array([[0, -1, 0],\n",
    "                       [-1, 5, -1],\n",
    "                       [0, -1, 0]])\n",
    "    sharpened = cv2.filter2D(image, -1, kernel)\n",
    "    return sharpened"
   ]
  },
  {
   "cell_type": "code",
   "execution_count": null,
   "metadata": {},
   "outputs": [],
   "source": [
    "def rgb_to_bgr(image):\n",
    "    return cv2.cvtColor(image, cv2.COLOR_RGB2BGR)"
   ]
  },
  {
   "cell_type": "code",
   "execution_count": null,
   "metadata": {},
   "outputs": [],
   "source": [
    "def main():\n",
    "    image = capture_image()\n",
    "    if image is None:\n",
    "        return\n",
    "\n",
    "    grey_image = grey_scale(image)\n",
    "    threshold_bw = threshold_image(grey_image)\n",
    "    grey_16 = sixteen_greys(grey_image)\n",
    "    sobel_img = sobel_filter(grey_image)\n",
    "    canny_img = canny_edge(grey_image)\n",
    "    gaussian_img = gaussian_filter(grey_image)\n",
    "    sharpened_img = sharpen_image(gaussian_img)\n",
    "    rgb_bgr_image = rgb_to_bgr(image)\n",
    "\n",
    "    plt.figure(figsize=(15, 8))\n",
    "    show(image, 2, 4, 1, \"Original Image\")\n",
    "    show(grey_image, 2, 4, 2, \"Grey Scale\")\n",
    "    show(threshold_bw, 2, 4, 3, \"Threshold (B/W)\")\n",
    "    show(grey_16, 2, 4, 4, \"16 Grey Levels\")\n",
    "    show(sobel_img, 2, 4, 5, \"Sobel Filter\")\n",
    "    show(canny_img, 2, 4, 6, \"Canny Edge\")\n",
    "    show(gaussian_img, 2, 4, 7, \"Gaussian Filter\")\n",
    "    show(sharpened_img, 2, 4, 8, \"Sharpened Image\")\n",
    "    plt.tight_layout()\n",
    "    plt.show()"
   ]
  },
  {
   "cell_type": "code",
   "execution_count": null,
   "metadata": {},
   "outputs": [],
   "source": [
    "if __name__ == \"__main__\":\n",
    "    main()"
   ]
  }
 ],
 "metadata": {
  "kernelspec": {
   "display_name": "Python 3",
   "language": "python",
   "name": "python3"
  },
  "language_info": {
   "name": "python",
   "version": "3.12.7"
  }
 },
 "nbformat": 4,
 "nbformat_minor": 2
}
