{
 "cells": [
  {
   "cell_type": "code",
   "execution_count": null,
   "metadata": {},
   "outputs": [
    {
     "name": "stdout",
     "output_type": "stream",
     "text": [
      "The flag is: Poland\n"
     ]
    }
   ],
   "source": [
    "from PIL import Image\n",
    "import numpy as np\n",
    "\n",
    "def identify_flag(image_path):\n",
    "    img = Image.open(image_path)\n",
    "    img = img.resize((100, 60))\n",
    "    img_array = np.array(img)\n",
    "    height = img_array.shape[0]\n",
    "    top_half = img_array[:height // 2, :, :]\n",
    "    bottom_half = img_array[height // 2:, :, :]\n",
    "    top_avg = np.mean(top_half, axis=(0, 1))\n",
    "    bottom_avg = np.mean(bottom_half, axis=(0, 1))\n",
    "    \n",
    "    if (top_avg[0] > top_avg[1] + 20 and top_avg[0] > top_avg[2] + 20):\n",
    "        if (abs(bottom_avg[0] - bottom_avg[1]) < 15 and abs(bottom_avg[0] - bottom_avg[2]) < 15):\n",
    "            return \"Indonesia\"\n",
    "    return \"Poland\"\n",
    "\n",
    "image_path = 'image.png'\n",
    "result = identify_flag(image_path)\n",
    "print(f\"The flag is: {result}\")"
   ]
  }
 ],
 "metadata": {
  "kernelspec": {
   "display_name": "myenv",
   "language": "python",
   "name": "python3"
  },
  "language_info": {
   "codemirror_mode": {
    "name": "ipython",
    "version": 3
   },
   "file_extension": ".py",
   "mimetype": "text/x-python",
   "name": "python",
   "nbconvert_exporter": "python",
   "pygments_lexer": "ipython3",
   "version": "3.12.7"
  }
 },
 "nbformat": 4,
 "nbformat_minor": 2
}
