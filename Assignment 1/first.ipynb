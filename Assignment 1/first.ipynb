{
 "cells": [
  {
   "cell_type": "code",
   "metadata": {
    "ExecuteTime": {
     "end_time": "2024-12-18T13:49:00.559190Z",
     "start_time": "2024-12-18T13:49:00.553840Z"
    }
   },
   "source": [
    "import matplotlib.pyplot as plt\n",
    "import cv2"
   ],
   "outputs": [],
   "execution_count": 8
  },
  {
   "metadata": {
    "ExecuteTime": {
     "end_time": "2024-12-18T13:48:39.841909Z",
     "start_time": "2024-12-18T13:48:39.834124Z"
    }
   },
   "cell_type": "code",
   "outputs": [
    {
     "ename": "SyntaxError",
     "evalue": "invalid syntax (1831837622.py, line 2)",
     "output_type": "error",
     "traceback": [
      "\u001B[0;36m  Cell \u001B[0;32mIn[7], line 2\u001B[0;36m\u001B[0m\n\u001B[0;31m    import cv2def show(name, n, m, i, Title):\u001B[0m\n\u001B[0m                  ^\u001B[0m\n\u001B[0;31mSyntaxError\u001B[0m\u001B[0;31m:\u001B[0m invalid syntax\n"
     ]
    }
   ],
   "execution_count": 7,
   "source": [
    "def show(name, n, m, i, Title):\n",
    "    plt.title(Title)\n",
    "    plt.subplot(n, m, i)\n",
    "    plt.imshow(name, cmap='gray')\n",
    "    plt.axis('off')\n",
    "\n",
    "image1 = cv2.imread('image1.jpg', cv2.IMREAD_GRAYSCALE)\n",
    "image2 = cv2.imread('image2.jpg', cv2.IMREAD_GRAYSCALE)\n",
    "image3 = cv2.imread('image3.jpg', cv2.IMREAD_GRAYSCALE)\n",
    "\n",
    "\n",
    "\n",
    "show(image1, 1, 3, 1, \"Image 1\")\n",
    "show(image2, 1, 3, 2, \"Image 2\")\n",
    "show(image3, 1, 3, 3, \"Image 3\")\n",
    "\n",
    "plt.show()\n"
   ]
  }
 ],
 "metadata": {
  "kernelspec": {
   "display_name": "myenv",
   "language": "python",
   "name": "python3"
  },
  "language_info": {
   "codemirror_mode": {
    "name": "ipython",
    "version": 3
   },
   "file_extension": ".py",
   "mimetype": "text/x-python",
   "name": "python",
   "nbconvert_exporter": "python",
   "pygments_lexer": "ipython3",
   "version": "3.12.7"
  }
 },
 "nbformat": 4,
 "nbformat_minor": 2
}
