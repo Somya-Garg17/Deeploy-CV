{
 "cells": [
  {
   "cell_type": "code",
   "execution_count": null,
   "metadata": {
    "vscode": {
     "languageId": "plaintext"
    }
   },
   "outputs": [],
   "source": [
    "import cv2\n",
    "import numpy as np\n",
    "import matplotlib.pyplot as plt"
   ]
  },
  {
   "cell_type": "code",
   "execution_count": null,
   "metadata": {
    "vscode": {
     "languageId": "plaintext"
    }
   },
   "outputs": [],
   "source": [
    "def show(name, n, m, i, Title):\n",
    "    plt.subplot(n, m, i)\n",
    "    plt.title(Title)\n",
    "    plt.imshow(name, cmap='gray')\n",
    "    plt.axis('off')"
   ]
  },
  {
   "cell_type": "code",
   "execution_count": null,
   "metadata": {
    "vscode": {
     "languageId": "plaintext"
    }
   },
   "outputs": [],
   "source": [
    "image1 = cv2.imread('image1.jpg', cv2.IMREAD_GRAYSCALE)\n",
    "image2 = cv2.imread('image2.jpg', cv2.IMREAD_GRAYSCALE)"
   ]
  },
  {
   "cell_type": "code",
   "execution_count": null,
   "metadata": {
    "vscode": {
     "languageId": "plaintext"
    }
   },
   "outputs": [],
   "source": [
    "def low_pass_filter(image, kernel_size=5):\n",
    "    return cv2.GaussianBlur(image, (kernel_size, kernel_size), 0)"
   ]
  },
  {
   "cell_type": "code",
   "execution_count": null,
   "metadata": {
    "vscode": {
     "languageId": "plaintext"
    }
   },
   "outputs": [],
   "source": [
    "def high_pass_filter(image, kernel_size=5):\n",
    "    low_pass = low_pass_filter(image, kernel_size)\n",
    "    return cv2.subtract(image, low_pass)"
   ]
  },
  {
   "cell_type": "code",
   "execution_count": null,
   "metadata": {
    "vscode": {
     "languageId": "plaintext"
    }
   },
   "outputs": [],
   "source": [
    "high_pass_img1 = high_pass_filter(image1)\n",
    "low_pass_img1 = low_pass_filter(image1)\n",
    "high_pass_img2 = high_pass_filter(image2)\n",
    "low_pass_img2 = low_pass_filter(image2)"
   ]
  },
  {
   "cell_type": "code",
   "execution_count": null,
   "metadata": {
    "vscode": {
     "languageId": "plaintext"
    }
   },
   "outputs": [],
   "source": [
    "combined_img1 = cv2.addWeighted(high_pass_img1, 0.5, low_pass_img1, 0.5, 0)\n",
    "combined_img2 = cv2.addWeighted(high_pass_img2, 0.5, low_pass_img2, 0.5, 0)"
   ]
  },
  {
   "cell_type": "code",
   "execution_count": null,
   "metadata": {
    "vscode": {
     "languageId": "plaintext"
    }
   },
   "outputs": [],
   "source": [
    "plt.figure(figsize=(12, 8))\n",
    "show(image1, 2, 3, 1, 'Original Image 1')\n",
    "show(high_pass_img1, 2, 3, 2, 'High-Pass Filtered Image 1')\n",
    "show(low_pass_img1, 2, 3, 3, 'Low-Pass Filtered Image 1')\n",
    "show(image2, 2, 3, 4, 'Original Image 2')\n",
    "show(combined_img1, 2, 3, 5, 'Combined Filtered Image 1')\n",
    "\n",
    "plt.show()"
   ]
  }
 ],
 "metadata": {
  "language_info": {
   "name": "python"
  }
 },
 "nbformat": 4,
 "nbformat_minor": 2
}
